{
 "cells": [
  {
   "cell_type": "markdown",
   "metadata": {
    "id": "hcpVc-38-OFf"
   },
   "source": [
    "Name: **Ashmika Gupte**<br>\n",
    "Div: **BE10**<br>\n",
    "Roll no: **43228**<br>\n",
    "Title: **Assignment 2: Implement FeedForward Neural Network with Keras and Tensorflow**<br>"
   ]
  },
  {
   "cell_type": "code",
   "execution_count": null,
   "metadata": {},
   "outputs": [],
   "source": [
    "#installations\n",
    "from sklearn.preprocessing import LabelBinarizer\n",
    "from sklearn.metrics import classification_report\n",
    "from tensorflow.keras.models import Sequential\n",
    "from tensorflow.keras.layers import Dense\n",
    "from tensorflow.keras.optimizers import SGD\n",
    "from tensorflow.keras.datasets import mnist\n",
    "from tensorflow.keras import backend as K\n",
    "import matplotlib.pyplot as plt\n",
    "import numpy as np"
   ]
  },
  {
   "cell_type": "code",
   "execution_count": 2,
   "metadata": {
    "colab": {
     "base_uri": "https://localhost:8080/",
     "height": 0
    },
    "id": "LUZLOYG8-Yz2",
    "outputId": "d9cacf04-099f-4079-c203-e7aebc2508e8"
   },
   "outputs": [],
   "source": [
    "#grabbing the mnist dataset\n",
    "((X_train, Y_train), (X_test, Y_test)) = mnist.load_data()\n",
    "X_train = X_train.reshape((X_train.shape[0], 28 * 28 * 1))\n",
    "X_test = X_test.reshape((X_test.shape[0], 28 * 28 * 1))\n",
    "X_train = X_train.astype(\"float32\") / 255.0\n",
    "X_test = X_test.astype(\"float32\") / 255.0"
   ]
  },
  {
   "cell_type": "code",
   "execution_count": 3,
   "metadata": {
    "id": "rGDSwm8e-i44"
   },
   "outputs": [],
   "source": [
    "lb = LabelBinarizer()\n",
    "Y_train = lb.fit_transform(Y_train)\n",
    "Y_test = lb.transform(Y_test)"
   ]
  },
  {
   "cell_type": "code",
   "execution_count": 4,
   "metadata": {
    "id": "lxBbB-yA-s_g"
   },
   "outputs": [],
   "source": [
    "#building the model\n",
    "model = Sequential()\n",
    "model.add(Dense(128, input_shape=(784,), activation=\"sigmoid\"))\n",
    "model.add(Dense(64, activation=\"sigmoid\"))\n",
    "model.add(Dense(10, activation=\"softmax\"))"
   ]
  },
  {
   "cell_type": "code",
   "execution_count": 5,
   "metadata": {
    "colab": {
     "base_uri": "https://localhost:8080/",
     "height": 0
    },
    "id": "xKc03Mvz-wrz",
    "outputId": "79fe4bb3-1299-4cf4-d89f-216a71a2f500"
   },
   "outputs": [
    {
     "name": "stdout",
     "output_type": "stream",
     "text": [
      "Epoch 1/10\n",
      "469/469 [==============================] - 4s 3ms/step - loss: 2.3023 - accuracy: 0.1549 - val_loss: 2.2578 - val_accuracy: 0.1289\n",
      "Epoch 2/10\n",
      "469/469 [==============================] - 1s 3ms/step - loss: 2.2320 - accuracy: 0.3191 - val_loss: 2.2025 - val_accuracy: 0.3664\n",
      "Epoch 3/10\n",
      "469/469 [==============================] - 2s 3ms/step - loss: 2.1690 - accuracy: 0.4837 - val_loss: 2.1271 - val_accuracy: 0.5496\n",
      "Epoch 4/10\n",
      "469/469 [==============================] - 1s 3ms/step - loss: 2.0791 - accuracy: 0.5893 - val_loss: 2.0171 - val_accuracy: 0.6088\n",
      "Epoch 5/10\n",
      "469/469 [==============================] - 1s 3ms/step - loss: 1.9494 - accuracy: 0.6293 - val_loss: 1.8625 - val_accuracy: 0.6713\n",
      "Epoch 6/10\n",
      "469/469 [==============================] - 1s 3ms/step - loss: 1.7771 - accuracy: 0.6569 - val_loss: 1.6718 - val_accuracy: 0.6596\n",
      "Epoch 7/10\n",
      "469/469 [==============================] - 1s 3ms/step - loss: 1.5828 - accuracy: 0.6769 - val_loss: 1.4759 - val_accuracy: 0.7025\n",
      "Epoch 8/10\n",
      "469/469 [==============================] - 2s 3ms/step - loss: 1.3979 - accuracy: 0.7020 - val_loss: 1.3026 - val_accuracy: 0.7223\n",
      "Epoch 9/10\n",
      "469/469 [==============================] - 2s 3ms/step - loss: 1.2413 - accuracy: 0.7239 - val_loss: 1.1609 - val_accuracy: 0.7402\n",
      "Epoch 10/10\n",
      "469/469 [==============================] - 2s 5ms/step - loss: 1.1149 - accuracy: 0.7427 - val_loss: 1.0483 - val_accuracy: 0.7534\n"
     ]
    }
   ],
   "source": [
    "sgd = SGD(0.01)\n",
    "epochs=10\n",
    "model.compile(loss=\"categorical_crossentropy\", optimizer=sgd,metrics=[\"accuracy\"])\n",
    "H = model.fit(X_train, Y_train, validation_data=(X_test, Y_test),epochs=epochs, batch_size=128)"
   ]
  },
  {
   "cell_type": "code",
   "execution_count": 6,
   "metadata": {
    "colab": {
     "base_uri": "https://localhost:8080/",
     "height": 0
    },
    "id": "Mhq0Upb3-8O3",
    "outputId": "0eb1eef2-37ca-4bbb-b25c-c62ce1cc05f3"
   },
   "outputs": [
    {
     "name": "stdout",
     "output_type": "stream",
     "text": [
      "              precision    recall  f1-score   support\n",
      "\n",
      "           0       0.82      0.96      0.88       980\n",
      "           1       0.78      0.97      0.87      1135\n",
      "           2       0.75      0.71      0.73      1032\n",
      "           3       0.62      0.86      0.72      1010\n",
      "           4       0.70      0.87      0.77       982\n",
      "           5       0.86      0.27      0.41       892\n",
      "           6       0.82      0.89      0.85       958\n",
      "           7       0.73      0.87      0.79      1028\n",
      "           8       0.82      0.55      0.66       974\n",
      "           9       0.79      0.53      0.63      1009\n",
      "\n",
      "    accuracy                           0.75     10000\n",
      "   macro avg       0.77      0.75      0.73     10000\n",
      "weighted avg       0.77      0.75      0.74     10000\n",
      "\n"
     ]
    }
   ],
   "source": [
    "#making the predictions\n",
    "predictions = model.predict(X_test, batch_size=128)\n",
    "print(classification_report(Y_test.argmax(axis=1),predictions.argmax(axis=1),target_names=[str(x) for x in lb.classes_]))"
   ]
  },
  {
   "cell_type": "code",
   "execution_count": 7,
   "metadata": {
    "colab": {
     "base_uri": "https://localhost:8080/",
     "height": 316
    },
    "id": "DN7oqCII_Crw",
    "outputId": "70c57661-cfce-4419-c0cd-1e5d821d56e6"
   },
   "outputs": [
    {
     "data": {
      "text/plain": [
       "<matplotlib.legend.Legend at 0x2ac8b320208>"
      ]
     },
     "execution_count": 7,
     "metadata": {},
     "output_type": "execute_result"
    },
    {
     "data": {
      "image/png": "[encoded data removed]",
      "text/plain": [
       "<Figure size 432x288 with 1 Axes>"
      ]
     },
     "metadata": {},
     "output_type": "display_data"
    }
   ],
   "source": [
    "#plotting the training loss and accuracy\n",
    "plt.style.use(\"ggplot\")\n",
    "plt.figure()\n",
    "plt.plot(np.arange(0, epochs), H.history[\"loss\"], label=\"train_loss\")\n",
    "plt.plot(np.arange(0, epochs), H.history[\"val_loss\"], label=\"val_loss\")\n",
    "plt.plot(np.arange(0, epochs), H.history[\"accuracy\"], label=\"train_acc\")\n",
    "plt.plot(np.arange(0, epochs), H.history[\"val_accuracy\"], label=\"val_acc\")\n",
    "plt.title(\"Training Loss and Accuracy\")\n",
    "plt.xlabel(\"Epoch #\")\n",
    "plt.ylabel(\"Loss/Accuracy\")\n",
    "plt.legend()"
   ]
  },
  {
   "cell_type": "code",
   "execution_count": 7,
   "metadata": {
    "id": "dsgxIAZF9na1"
   },
   "outputs": [],
   "source": []
  }
 ],
 "metadata": {
  "colab": {
   "collapsed_sections": [],
   "provenance": []
  },
  "kernelspec": {
   "display_name": "Python 3 (ipykernel)",
   "language": "python",
   "name": "python3"
  },
  "language_info": {
   "codemirror_mode": {
    "name": "ipython",
    "version": 3
   },
   "file_extension": ".py",
   "mimetype": "text/x-python",
   "name": "python",
   "nbconvert_exporter": "python",
   "pygments_lexer": "ipython3",
   "version": "3.7.6"
  }
 },
 "nbformat": 4,
 "nbformat_minor": 1
}
