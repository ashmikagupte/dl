{
 "cells": [
  {
   "cell_type": "markdown",
   "metadata": {
    "id": "i_GcJlVrDgBk"
   },
   "source": [
    "Name: **Ashmika Gupte**<br>\n",
    "Div: **BE10**<br>\n",
    "Roll no: **43228**<br>\n",
    "Title: **Assignment 5: Implement the Continuous Bag of Words (CBOW) Model**<br>"
   ]
  },
  {
   "cell_type": "code",
   "execution_count": 1,
   "metadata": {
    "id": "V51q50EbF-T9"
   },
   "outputs": [],
   "source": [
    "#importing libraries\n",
    "from keras.preprocessing import text\n",
    "from keras.utils import np_utils\n",
    "from keras_preprocessing import sequence\n",
    "#from keras.utils import pad_sequences\n",
    "from keras_preprocessing.sequence import pad_sequences\n",
    "import numpy as np\n",
    "import pandas as pd"
   ]
  },
  {
   "cell_type": "code",
   "execution_count": 2,
   "metadata": {
    "id": "wBUwYdBJElVz"
   },
   "outputs": [],
   "source": [
    "#taking random sentences as data\n",
    "data = \"\"\"Deep learning (also known as deep structured learning) is part of a broader family of machine learning methods based on artificial neural networks with representation learning. Learning can be supervised, semi-supervised or unsupervised. \n",
    "Deep-learning architectures such as deep neural networks, deep belief networks, deep reinforcement learning, recurrent neural networks, convolutional neural networks and Transformers have been applied to fields including computer vision, speech recognition, natural language processing, machine translation, bioinformatics, drug design, medical image analysis, climate science, material inspection and board game programs, where they have produced results comparable to and in some cases surpassing human expert performance.\n",
    "\"\"\"\n",
    "dl_data = data.split()"
   ]
  },
  {
   "cell_type": "code",
   "execution_count": 3,
   "metadata": {
    "colab": {
     "base_uri": "https://localhost:8080/"
    },
    "id": "celNk9LmEvm8",
    "outputId": "4e2143b6-92dc-452f-f468-7c9e6238e287"
   },
   "outputs": [
    {
     "name": "stdout",
     "output_type": "stream",
     "text": [
      "Vocabulary Size: 75\n",
      "Vocabulary Sample: [('learning', 1), ('deep', 2), ('networks', 3), ('neural', 4), ('and', 5), ('as', 6), ('of', 7), ('machine', 8), ('supervised', 9), ('have', 10)]\n"
     ]
    }
   ],
   "source": [
    "#tokenization\n",
    "tokenizer = text.Tokenizer()\n",
    "tokenizer.fit_on_texts(dl_data)\n",
    "word2id = tokenizer.word_index\n",
    "\n",
    "word2id['PAD'] = 0\n",
    "id2word = {v:k for k, v in word2id.items()}\n",
    "wids = [[word2id[w] for w in text.text_to_word_sequence(doc)] for doc in dl_data]\n",
    "\n",
    "vocab_size = len(word2id)\n",
    "embed_size = 100\n",
    "window_size = 2 \n",
    "\n",
    "print('Vocabulary Size:', vocab_size)\n",
    "print('Vocabulary Sample:', list(word2id.items())[:10])"
   ]
  },
  {
   "cell_type": "code",
   "execution_count": 4,
   "metadata": {
    "id": "AAxNYDanInQC"
   },
   "outputs": [],
   "source": [
    "#generating (context word, target/label word) pairs\n",
    "def generate_context_word_pairs(corpus, window_size, vocab_size):\n",
    "    context_length = window_size*2\n",
    "    for words in corpus:\n",
    "        sentence_length = len(words)\n",
    "        for index, word in enumerate(words):\n",
    "            context_words = []\n",
    "            label_word   = []            \n",
    "            start = index - window_size\n",
    "            end = index + window_size + 1\n",
    "            \n",
    "            context_words.append([words[i] \n",
    "                                 for i in range(start, end) \n",
    "                                 if 0 <= i < sentence_length \n",
    "                                 and i != index])\n",
    "            label_word.append(word)\n",
    "\n",
    "            x = pad_sequences(context_words, maxlen=context_length)\n",
    "            y = np_utils.to_categorical(label_word, vocab_size)\n",
    "            yield (x, y)\n",
    "            \n",
    "i = 0\n",
    "for x, y in generate_context_word_pairs(corpus=wids, window_size=window_size, vocab_size=vocab_size):\n",
    "    if 0 not in x[0]:\n",
    "        # print('Context (X):', [id2word[w] for w in x[0]], '-> Target (Y):', id2word[np.argwhere(y[0])[0][0]])\n",
    "    \n",
    "        if i == 10:\n",
    "            break\n",
    "        i += 1"
   ]
  },
  {
   "cell_type": "code",
   "execution_count": 5,
   "metadata": {
    "colab": {
     "base_uri": "https://localhost:8080/"
    },
    "id": "Rb5dNmoZKZBv",
    "outputId": "b859c07e-6989-420d-b169-8aa0b93ff367"
   },
   "outputs": [
    {
     "name": "stdout",
     "output_type": "stream",
     "text": [
      "Model: \"sequential\"\n",
      "_________________________________________________________________\n",
      " Layer (type)                Output Shape              Param #   \n",
      "=================================================================\n",
      " embedding (Embedding)       (None, 4, 100)            7500      \n",
      "                                                                 \n",
      " lambda (Lambda)             (None, 100)               0         \n",
      "                                                                 \n",
      " dense (Dense)               (None, 75)                7575      \n",
      "                                                                 \n",
      "=================================================================\n",
      "Total params: 15,075\n",
      "Trainable params: 15,075\n",
      "Non-trainable params: 0\n",
      "_________________________________________________________________\n",
      "None\n"
     ]
    }
   ],
   "source": [
    "#model building\n",
    "import keras.backend as K\n",
    "from keras.models import Sequential\n",
    "from keras.layers import Dense, Embedding, Lambda\n",
    "\n",
    "cbow = Sequential()\n",
    "cbow.add(Embedding(input_dim=vocab_size, output_dim=embed_size, input_length=window_size*2))\n",
    "cbow.add(Lambda(lambda x: K.mean(x, axis=1), output_shape=(embed_size,)))\n",
    "cbow.add(Dense(vocab_size, activation='softmax'))\n",
    "cbow.compile(loss='categorical_crossentropy', optimizer='rmsprop')\n",
    "\n",
    "print(cbow.summary())\n",
    "\n",
    "# from IPython.display import SVG\n",
    "# from keras.utils.vis_utils import model_to_dot\n",
    "\n",
    "# SVG(model_to_dot(cbow, show_shapes=True, show_layer_names=False, rankdir='TB').create(prog='dot', format='svg'))"
   ]
  },
  {
   "cell_type": "code",
   "execution_count": 6,
   "metadata": {
    "colab": {
     "base_uri": "https://localhost:8080/"
    },
    "id": "xs12C3MDK1q4",
    "outputId": "fe8783b3-0ee1-4286-be40-6713afa14f9c"
   },
   "outputs": [
    {
     "name": "stdout",
     "output_type": "stream",
     "text": [
      "Epoch: 1 \tLoss: 434.11910104751587\n",
      "\n",
      "Epoch: 2 \tLoss: 429.79044938087463\n",
      "\n",
      "Epoch: 3 \tLoss: 426.42825746536255\n",
      "\n",
      "Epoch: 4 \tLoss: 422.9505877494812\n",
      "\n",
      "Epoch: 5 \tLoss: 420.1664357185364\n",
      "\n"
     ]
    }
   ],
   "source": [
    "for epoch in range(1, 6):\n",
    "    loss = 0.\n",
    "    i = 0\n",
    "    for x, y in generate_context_word_pairs(corpus=wids, window_size=window_size, vocab_size=vocab_size):\n",
    "        i += 1\n",
    "        loss += cbow.train_on_batch(x, y)\n",
    "        if i % 100000 == 0:\n",
    "            print('Processed {} (context, word) pairs'.format(i))\n",
    "\n",
    "    print('Epoch:', epoch, '\\tLoss:', loss)\n",
    "    print()"
   ]
  },
  {
   "cell_type": "code",
   "execution_count": 7,
   "metadata": {
    "colab": {
     "base_uri": "https://localhost:8080/",
     "height": 253
    },
    "id": "TZ3_QGKVK6Tj",
    "outputId": "cd9d167a-85a3-4cc9-eccb-faf997526122"
   },
   "outputs": [
    {
     "name": "stdout",
     "output_type": "stream",
     "text": [
      "(74, 100)\n"
     ]
    },
    {
     "data": {
      "text/html": [
       "<div>\n",
       "<style scoped>\n",
       "    .dataframe tbody tr th:only-of-type {\n",
       "        vertical-align: middle;\n",
       "    }\n",
       "\n",
       "    .dataframe tbody tr th {\n",
       "        vertical-align: top;\n",
       "    }\n",
       "\n",
       "    .dataframe thead th {\n",
       "        text-align: right;\n",
       "    }\n",
       "</style>\n",
       "<table border=\"1\" class=\"dataframe\">\n",
       "  <thead>\n",
       "    <tr style=\"text-align: right;\">\n",
       "      <th></th>\n",
       "      <th>0</th>\n",
       "      <th>1</th>\n",
       "      <th>2</th>\n",
       "      <th>3</th>\n",
       "      <th>4</th>\n",
       "      <th>5</th>\n",
       "      <th>6</th>\n",
       "      <th>7</th>\n",
       "      <th>8</th>\n",
       "      <th>9</th>\n",
       "      <th>...</th>\n",
       "      <th>90</th>\n",
       "      <th>91</th>\n",
       "      <th>92</th>\n",
       "      <th>93</th>\n",
       "      <th>94</th>\n",
       "      <th>95</th>\n",
       "      <th>96</th>\n",
       "      <th>97</th>\n",
       "      <th>98</th>\n",
       "      <th>99</th>\n",
       "    </tr>\n",
       "  </thead>\n",
       "  <tbody>\n",
       "    <tr>\n",
       "      <th>deep</th>\n",
       "      <td>0.008422</td>\n",
       "      <td>0.045669</td>\n",
       "      <td>0.047372</td>\n",
       "      <td>0.062243</td>\n",
       "      <td>-0.026308</td>\n",
       "      <td>0.013064</td>\n",
       "      <td>0.018516</td>\n",
       "      <td>-0.009838</td>\n",
       "      <td>-0.055406</td>\n",
       "      <td>0.028841</td>\n",
       "      <td>...</td>\n",
       "      <td>0.022648</td>\n",
       "      <td>0.016731</td>\n",
       "      <td>0.037444</td>\n",
       "      <td>-0.017477</td>\n",
       "      <td>-0.013188</td>\n",
       "      <td>-0.049371</td>\n",
       "      <td>-0.021948</td>\n",
       "      <td>0.063475</td>\n",
       "      <td>0.006607</td>\n",
       "      <td>0.019202</td>\n",
       "    </tr>\n",
       "    <tr>\n",
       "      <th>networks</th>\n",
       "      <td>-0.003133</td>\n",
       "      <td>0.015078</td>\n",
       "      <td>-0.023645</td>\n",
       "      <td>-0.025505</td>\n",
       "      <td>0.046494</td>\n",
       "      <td>-0.057649</td>\n",
       "      <td>-0.059258</td>\n",
       "      <td>-0.010390</td>\n",
       "      <td>-0.034888</td>\n",
       "      <td>0.029381</td>\n",
       "      <td>...</td>\n",
       "      <td>-0.031074</td>\n",
       "      <td>-0.009917</td>\n",
       "      <td>-0.002948</td>\n",
       "      <td>0.011428</td>\n",
       "      <td>0.032272</td>\n",
       "      <td>0.042806</td>\n",
       "      <td>0.060173</td>\n",
       "      <td>0.008636</td>\n",
       "      <td>-0.009351</td>\n",
       "      <td>-0.040879</td>\n",
       "    </tr>\n",
       "    <tr>\n",
       "      <th>neural</th>\n",
       "      <td>-0.036695</td>\n",
       "      <td>0.014728</td>\n",
       "      <td>0.025365</td>\n",
       "      <td>0.031114</td>\n",
       "      <td>-0.048200</td>\n",
       "      <td>0.025905</td>\n",
       "      <td>0.031577</td>\n",
       "      <td>-0.017173</td>\n",
       "      <td>0.004873</td>\n",
       "      <td>0.038171</td>\n",
       "      <td>...</td>\n",
       "      <td>0.020409</td>\n",
       "      <td>-0.046659</td>\n",
       "      <td>-0.024471</td>\n",
       "      <td>-0.020102</td>\n",
       "      <td>-0.004117</td>\n",
       "      <td>-0.049208</td>\n",
       "      <td>0.012739</td>\n",
       "      <td>0.002243</td>\n",
       "      <td>0.044771</td>\n",
       "      <td>0.038699</td>\n",
       "    </tr>\n",
       "    <tr>\n",
       "      <th>and</th>\n",
       "      <td>0.032567</td>\n",
       "      <td>0.002676</td>\n",
       "      <td>-0.044857</td>\n",
       "      <td>-0.007342</td>\n",
       "      <td>-0.038557</td>\n",
       "      <td>-0.032592</td>\n",
       "      <td>0.005873</td>\n",
       "      <td>-0.037114</td>\n",
       "      <td>-0.015500</td>\n",
       "      <td>-0.001265</td>\n",
       "      <td>...</td>\n",
       "      <td>0.037952</td>\n",
       "      <td>-0.022813</td>\n",
       "      <td>0.040045</td>\n",
       "      <td>0.010067</td>\n",
       "      <td>-0.049906</td>\n",
       "      <td>0.020980</td>\n",
       "      <td>0.039200</td>\n",
       "      <td>0.043499</td>\n",
       "      <td>-0.027242</td>\n",
       "      <td>-0.034727</td>\n",
       "    </tr>\n",
       "    <tr>\n",
       "      <th>as</th>\n",
       "      <td>-0.017680</td>\n",
       "      <td>0.036029</td>\n",
       "      <td>-0.009534</td>\n",
       "      <td>-0.045383</td>\n",
       "      <td>0.025322</td>\n",
       "      <td>0.031083</td>\n",
       "      <td>0.004195</td>\n",
       "      <td>0.022522</td>\n",
       "      <td>0.045577</td>\n",
       "      <td>-0.043974</td>\n",
       "      <td>...</td>\n",
       "      <td>0.023577</td>\n",
       "      <td>-0.015445</td>\n",
       "      <td>0.008853</td>\n",
       "      <td>0.044747</td>\n",
       "      <td>-0.004207</td>\n",
       "      <td>-0.044726</td>\n",
       "      <td>0.016877</td>\n",
       "      <td>-0.010538</td>\n",
       "      <td>0.045069</td>\n",
       "      <td>0.000954</td>\n",
       "    </tr>\n",
       "  </tbody>\n",
       "</table>\n",
       "<p>5 rows × 100 columns</p>\n",
       "</div>"
      ],
      "text/plain": [
       "                0         1         2         3         4         5   \\\n",
       "deep      0.008422  0.045669  0.047372  0.062243 -0.026308  0.013064   \n",
       "networks -0.003133  0.015078 -0.023645 -0.025505  0.046494 -0.057649   \n",
       "neural   -0.036695  0.014728  0.025365  0.031114 -0.048200  0.025905   \n",
       "and       0.032567  0.002676 -0.044857 -0.007342 -0.038557 -0.032592   \n",
       "as       -0.017680  0.036029 -0.009534 -0.045383  0.025322  0.031083   \n",
       "\n",
       "                6         7         8         9   ...        90        91  \\\n",
       "deep      0.018516 -0.009838 -0.055406  0.028841  ...  0.022648  0.016731   \n",
       "networks -0.059258 -0.010390 -0.034888  0.029381  ... -0.031074 -0.009917   \n",
       "neural    0.031577 -0.017173  0.004873  0.038171  ...  0.020409 -0.046659   \n",
       "and       0.005873 -0.037114 -0.015500 -0.001265  ...  0.037952 -0.022813   \n",
       "as        0.004195  0.022522  0.045577 -0.043974  ...  0.023577 -0.015445   \n",
       "\n",
       "                92        93        94        95        96        97  \\\n",
       "deep      0.037444 -0.017477 -0.013188 -0.049371 -0.021948  0.063475   \n",
       "networks -0.002948  0.011428  0.032272  0.042806  0.060173  0.008636   \n",
       "neural   -0.024471 -0.020102 -0.004117 -0.049208  0.012739  0.002243   \n",
       "and       0.040045  0.010067 -0.049906  0.020980  0.039200  0.043499   \n",
       "as        0.008853  0.044747 -0.004207 -0.044726  0.016877 -0.010538   \n",
       "\n",
       "                98        99  \n",
       "deep      0.006607  0.019202  \n",
       "networks -0.009351 -0.040879  \n",
       "neural    0.044771  0.038699  \n",
       "and      -0.027242 -0.034727  \n",
       "as        0.045069  0.000954  \n",
       "\n",
       "[5 rows x 100 columns]"
      ]
     },
     "execution_count": 7,
     "metadata": {},
     "output_type": "execute_result"
    }
   ],
   "source": [
    "weights = cbow.get_weights()[0]\n",
    "weights = weights[1:]\n",
    "print(weights.shape)\n",
    "\n",
    "pd.DataFrame(weights, index=list(id2word.values())[1:]).head()"
   ]
  },
  {
   "cell_type": "code",
   "execution_count": 8,
   "metadata": {
    "colab": {
     "base_uri": "https://localhost:8080/"
    },
    "id": "UFs2IAn_LAYS",
    "outputId": "87ae1249-6a80-484f-b4a2-4d5f20734db7"
   },
   "outputs": [
    {
     "name": "stdout",
     "output_type": "stream",
     "text": [
      "(74, 74)\n"
     ]
    },
    {
     "data": {
      "text/plain": [
       "{'deep': ['or', 'is', 'artificial', 'architectures', 'where']}"
      ]
     },
     "execution_count": 8,
     "metadata": {},
     "output_type": "execute_result"
    }
   ],
   "source": [
    "from sklearn.metrics.pairwise import euclidean_distances\n",
    "\n",
    "distance_matrix = euclidean_distances(weights)\n",
    "print(distance_matrix.shape)\n",
    "\n",
    "similar_words = {search_term: [id2word[idx] for idx in distance_matrix[word2id[search_term]-1].argsort()[1:6]+1] \n",
    "                   for search_term in ['deep']}\n",
    "\n",
    "similar_words"
   ]
  }
 ],
 "metadata": {
  "colab": {
   "collapsed_sections": [],
   "provenance": []
  },
  "kernelspec": {
   "display_name": "Python 3 (ipykernel)",
   "language": "python",
   "name": "python3"
  },
  "language_info": {
   "codemirror_mode": {
    "name": "ipython",
    "version": 3
   },
   "file_extension": ".py",
   "mimetype": "text/x-python",
   "name": "python",
   "nbconvert_exporter": "python",
   "pygments_lexer": "ipython3",
   "version": "3.7.6"
  }
 },
 "nbformat": 4,
 "nbformat_minor": 1
}
